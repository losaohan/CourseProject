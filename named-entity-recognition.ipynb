{
 "cells": [
  {
   "cell_type": "markdown",
   "metadata": {},
   "source": [
    "# Named Entity Recognition with Spacy"
   ]
  },
  {
   "cell_type": "markdown",
   "metadata": {},
   "source": [
    "We have used tutorial from: https://towardsdatascience.com/train-ner-with-custom-training-data-using-spacy-525ce748fab7"
   ]
  },
  {
   "cell_type": "markdown",
   "metadata": {},
   "source": [
    "### Configuration"
   ]
  },
  {
   "cell_type": "code",
   "execution_count": 1,
   "metadata": {},
   "outputs": [],
   "source": [
    "from __future__ import unicode_literals, print_function\n",
    "import plac\n",
    "import random\n",
    "from pathlib import Path\n",
    "import spacy\n",
    "from tqdm import tqdm"
   ]
  },
  {
   "cell_type": "markdown",
   "metadata": {},
   "source": [
    "### Training"
   ]
  },
  {
   "cell_type": "code",
   "execution_count": 2,
   "metadata": {},
   "outputs": [],
   "source": [
    "TRAIN_DATA = [\n",
    "    ('My main research interests are in machine learning, artificial intelligence, and theoretical computer science.', {\n",
    "        'entities': [(34,50, 'AREA'), (52, 75, 'AREA'), (81, 109, 'AREA')]\n",
    "    }),\n",
    "    ('My primary research areas are computational Biology, Bioinformatics and Machine learning.', {\n",
    "        'entities': [(53,67, 'AREA'), (72,88, 'AREA')]\n",
    "    }),\n",
    "    ('I am interested in the intersection of machine learning and systems.', {\n",
    "        'entities': [(39,55, 'AREA'), (60,77, 'AREA')]\n",
    "    }),\n",
    "    ('I work on developing and using Machine Learning, AI, and Data Science methods.', {\n",
    "        'entities': [(31,47, 'AREA'), (49,51, 'AREA'), (57,69, 'AREA')]\n",
    "    }),\n",
    "    ('I am interested in the intersection of machine learning and systems.', {\n",
    "        'entities': [(39,55, 'AREA'), (60,67, 'AREA')]\n",
    "    }),    \n",
    "]\n"
   ]
  },
  {
   "cell_type": "markdown",
   "metadata": {},
   "source": [
    "### Setup Language Model"
   ]
  },
  {
   "cell_type": "code",
   "execution_count": 3,
   "metadata": {},
   "outputs": [
    {
     "name": "stdout",
     "output_type": "stream",
     "text": [
      "Created blank 'en' model\n"
     ]
    }
   ],
   "source": [
    "model = None\n",
    "output_dir=Path(\"./\")\n",
    "n_iter=100\n",
    "\n",
    "#load the model\n",
    "if model is not None:\n",
    "    nlp = spacy.load(model)  \n",
    "    print(\"Loaded model '%s'\" % model)\n",
    "else:\n",
    "    nlp = spacy.blank('en')  \n",
    "    print(\"Created blank 'en' model\")\n",
    "    \n",
    "#set up the pipeline\n",
    "if 'ner' not in nlp.pipe_names:\n",
    "    ner = nlp.create_pipe('ner')\n",
    "    nlp.add_pipe(ner, last=True)\n",
    "else:\n",
    "    ner = nlp.get_pipe('ner')"
   ]
  },
  {
   "cell_type": "markdown",
   "metadata": {},
   "source": [
    "### Training"
   ]
  },
  {
   "cell_type": "code",
   "execution_count": 4,
   "metadata": {},
   "outputs": [
    {
     "name": "stderr",
     "output_type": "stream",
     "text": [
      "100%|██████████| 5/5 [00:00<00:00, 41.49it/s]\n",
      "100%|██████████| 5/5 [00:00<00:00, 55.16it/s]\n",
      "100%|██████████| 5/5 [00:00<00:00, 55.72it/s]\n",
      "  0%|          | 0/5 [00:00<?, ?it/s]"
     ]
    },
    {
     "name": "stdout",
     "output_type": "stream",
     "text": [
      "{'ner': 51.67547598481178}\n",
      "{'ner': 36.20493755862117}\n",
      "{'ner': 22.9045398584567}\n"
     ]
    },
    {
     "name": "stderr",
     "output_type": "stream",
     "text": [
      "100%|██████████| 5/5 [00:00<00:00, 52.62it/s]\n",
      "100%|██████████| 5/5 [00:00<00:00, 51.08it/s]\n",
      "100%|██████████| 5/5 [00:00<00:00, 51.24it/s]\n",
      "  0%|          | 0/5 [00:00<?, ?it/s]"
     ]
    },
    {
     "name": "stdout",
     "output_type": "stream",
     "text": [
      "{'ner': 19.499939648820146}\n",
      "{'ner': 19.816921715313583}\n",
      "{'ner': 19.815520729058335}\n"
     ]
    },
    {
     "name": "stderr",
     "output_type": "stream",
     "text": [
      "100%|██████████| 5/5 [00:00<00:00, 54.46it/s]\n",
      "100%|██████████| 5/5 [00:00<00:00, 52.10it/s]\n",
      "100%|██████████| 5/5 [00:00<00:00, 50.86it/s]\n",
      "  0%|          | 0/5 [00:00<?, ?it/s]"
     ]
    },
    {
     "name": "stdout",
     "output_type": "stream",
     "text": [
      "{'ner': 18.98602657049196}\n",
      "{'ner': 18.171324101276696}\n",
      "{'ner': 14.885559097630903}\n"
     ]
    },
    {
     "name": "stderr",
     "output_type": "stream",
     "text": [
      "100%|██████████| 5/5 [00:00<00:00, 47.08it/s]\n",
      "100%|██████████| 5/5 [00:00<00:00, 50.19it/s]\n",
      "  0%|          | 0/5 [00:00<?, ?it/s]"
     ]
    },
    {
     "name": "stdout",
     "output_type": "stream",
     "text": [
      "{'ner': 19.834681788845955}\n",
      "{'ner': 18.61323579434611}\n"
     ]
    },
    {
     "name": "stderr",
     "output_type": "stream",
     "text": [
      "100%|██████████| 5/5 [00:00<00:00, 48.84it/s]\n",
      "100%|██████████| 5/5 [00:00<00:00, 51.02it/s]\n",
      "100%|██████████| 5/5 [00:00<00:00, 51.76it/s]\n",
      "  0%|          | 0/5 [00:00<?, ?it/s]"
     ]
    },
    {
     "name": "stdout",
     "output_type": "stream",
     "text": [
      "{'ner': 19.392367718534842}\n",
      "{'ner': 16.09915528325564}\n",
      "{'ner': 21.598483065076493}\n"
     ]
    },
    {
     "name": "stderr",
     "output_type": "stream",
     "text": [
      "100%|██████████| 5/5 [00:00<00:00, 48.97it/s]\n",
      "100%|██████████| 5/5 [00:00<00:00, 47.42it/s]\n",
      "  0%|          | 0/5 [00:00<?, ?it/s]"
     ]
    },
    {
     "name": "stdout",
     "output_type": "stream",
     "text": [
      "{'ner': 16.4583444109617}\n",
      "{'ner': 19.202495730943156}\n"
     ]
    },
    {
     "name": "stderr",
     "output_type": "stream",
     "text": [
      "100%|██████████| 5/5 [00:00<00:00, 39.67it/s]\n",
      "100%|██████████| 5/5 [00:00<00:00, 47.30it/s]\n",
      "  0%|          | 0/5 [00:00<?, ?it/s]"
     ]
    },
    {
     "name": "stdout",
     "output_type": "stream",
     "text": [
      "{'ner': 12.922788605246556}\n",
      "{'ner': 9.855551897517497}\n"
     ]
    },
    {
     "name": "stderr",
     "output_type": "stream",
     "text": [
      "100%|██████████| 5/5 [00:00<00:00, 48.62it/s]\n",
      "100%|██████████| 5/5 [00:00<00:00, 47.21it/s]\n",
      "  0%|          | 0/5 [00:00<?, ?it/s]"
     ]
    },
    {
     "name": "stdout",
     "output_type": "stream",
     "text": [
      "{'ner': 6.8057888288300505}\n",
      "{'ner': 12.665175162069934}\n"
     ]
    },
    {
     "name": "stderr",
     "output_type": "stream",
     "text": [
      "100%|██████████| 5/5 [00:00<00:00, 47.93it/s]\n",
      "100%|██████████| 5/5 [00:00<00:00, 52.48it/s]\n",
      "100%|██████████| 5/5 [00:00<00:00, 55.43it/s]\n",
      "  0%|          | 0/5 [00:00<?, ?it/s]"
     ]
    },
    {
     "name": "stdout",
     "output_type": "stream",
     "text": [
      "{'ner': 11.50571331529249}\n",
      "{'ner': 4.458763746519036}\n",
      "{'ner': 11.538580056530291}\n"
     ]
    },
    {
     "name": "stderr",
     "output_type": "stream",
     "text": [
      "100%|██████████| 5/5 [00:00<00:00, 54.21it/s]\n",
      "100%|██████████| 5/5 [00:00<00:00, 53.73it/s]\n",
      "100%|██████████| 5/5 [00:00<00:00, 56.04it/s]\n",
      "  0%|          | 0/5 [00:00<?, ?it/s]"
     ]
    },
    {
     "name": "stdout",
     "output_type": "stream",
     "text": [
      "{'ner': 10.89994016845592}\n",
      "{'ner': 7.154000123282688}\n",
      "{'ner': 6.0828154923528155}\n"
     ]
    },
    {
     "name": "stderr",
     "output_type": "stream",
     "text": [
      "100%|██████████| 5/5 [00:00<00:00, 54.56it/s]\n",
      "100%|██████████| 5/5 [00:00<00:00, 56.01it/s]\n",
      "100%|██████████| 5/5 [00:00<00:00, 54.54it/s]\n",
      "  0%|          | 0/5 [00:00<?, ?it/s]"
     ]
    },
    {
     "name": "stdout",
     "output_type": "stream",
     "text": [
      "{'ner': 2.6909585801322975}\n",
      "{'ner': 2.797420155504378}\n",
      "{'ner': 1.7534945984746957}\n"
     ]
    },
    {
     "name": "stderr",
     "output_type": "stream",
     "text": [
      "100%|██████████| 5/5 [00:00<00:00, 50.75it/s]\n",
      "100%|██████████| 5/5 [00:00<00:00, 55.95it/s]\n",
      "100%|██████████| 5/5 [00:00<00:00, 55.40it/s]\n",
      "  0%|          | 0/5 [00:00<?, ?it/s]"
     ]
    },
    {
     "name": "stdout",
     "output_type": "stream",
     "text": [
      "{'ner': 8.3187354075188}\n",
      "{'ner': 1.7594856487182844}\n",
      "{'ner': 1.2296863434337981}\n"
     ]
    },
    {
     "name": "stderr",
     "output_type": "stream",
     "text": [
      "100%|██████████| 5/5 [00:00<00:00, 46.69it/s]\n",
      "100%|██████████| 5/5 [00:00<00:00, 48.33it/s]\n",
      "  0%|          | 0/5 [00:00<?, ?it/s]"
     ]
    },
    {
     "name": "stdout",
     "output_type": "stream",
     "text": [
      "{'ner': 1.4934664064568248}\n",
      "{'ner': 2.5414500669967244}\n"
     ]
    },
    {
     "name": "stderr",
     "output_type": "stream",
     "text": [
      "100%|██████████| 5/5 [00:00<00:00, 52.07it/s]\n",
      "100%|██████████| 5/5 [00:00<00:00, 47.46it/s]\n",
      "  0%|          | 0/5 [00:00<?, ?it/s]"
     ]
    },
    {
     "name": "stdout",
     "output_type": "stream",
     "text": [
      "{'ner': 4.298758522893129}\n",
      "{'ner': 4.058565453931786}\n"
     ]
    },
    {
     "name": "stderr",
     "output_type": "stream",
     "text": [
      "100%|██████████| 5/5 [00:00<00:00, 51.92it/s]\n",
      "100%|██████████| 5/5 [00:00<00:00, 47.60it/s]\n",
      "  0%|          | 0/5 [00:00<?, ?it/s]"
     ]
    },
    {
     "name": "stdout",
     "output_type": "stream",
     "text": [
      "{'ner': 3.6576154541775527}\n",
      "{'ner': 4.216015887726538}\n"
     ]
    },
    {
     "name": "stderr",
     "output_type": "stream",
     "text": [
      "100%|██████████| 5/5 [00:00<00:00, 49.52it/s]\n",
      "100%|██████████| 5/5 [00:00<00:00, 53.62it/s]\n",
      "100%|██████████| 5/5 [00:00<00:00, 56.15it/s]\n",
      "  0%|          | 0/5 [00:00<?, ?it/s]"
     ]
    },
    {
     "name": "stdout",
     "output_type": "stream",
     "text": [
      "{'ner': 1.921226616200237}\n",
      "{'ner': 2.183193249170095}\n",
      "{'ner': 1.8291207628102741}\n"
     ]
    },
    {
     "name": "stderr",
     "output_type": "stream",
     "text": [
      "100%|██████████| 5/5 [00:00<00:00, 53.84it/s]\n",
      "100%|██████████| 5/5 [00:00<00:00, 54.00it/s]\n",
      "100%|██████████| 5/5 [00:00<00:00, 56.14it/s]\n",
      "  0%|          | 0/5 [00:00<?, ?it/s]"
     ]
    },
    {
     "name": "stdout",
     "output_type": "stream",
     "text": [
      "{'ner': 0.024724404635049466}\n",
      "{'ner': 2.5628051216393697}\n",
      "{'ner': 1.8177705013551673}\n"
     ]
    },
    {
     "name": "stderr",
     "output_type": "stream",
     "text": [
      "100%|██████████| 5/5 [00:00<00:00, 52.31it/s]\n",
      "100%|██████████| 5/5 [00:00<00:00, 52.91it/s]\n",
      "100%|██████████| 5/5 [00:00<00:00, 52.82it/s]\n",
      "  0%|          | 0/5 [00:00<?, ?it/s]"
     ]
    },
    {
     "name": "stdout",
     "output_type": "stream",
     "text": [
      "{'ner': 3.6859391620405604}\n",
      "{'ner': 1.6385371377751732}\n",
      "{'ner': 2.9945966940378703}\n"
     ]
    },
    {
     "name": "stderr",
     "output_type": "stream",
     "text": [
      "100%|██████████| 5/5 [00:00<00:00, 55.80it/s]\n",
      "100%|██████████| 5/5 [00:00<00:00, 57.23it/s]\n",
      "100%|██████████| 5/5 [00:00<00:00, 56.20it/s]\n",
      "  0%|          | 0/5 [00:00<?, ?it/s]"
     ]
    },
    {
     "name": "stdout",
     "output_type": "stream",
     "text": [
      "{'ner': 0.07049316369877971}\n",
      "{'ner': 1.5584346415332144}\n",
      "{'ner': 1.4434384807702219}\n"
     ]
    },
    {
     "name": "stderr",
     "output_type": "stream",
     "text": [
      "100%|██████████| 5/5 [00:00<00:00, 52.52it/s]\n",
      "100%|██████████| 5/5 [00:00<00:00, 53.47it/s]\n",
      "100%|██████████| 5/5 [00:00<00:00, 54.91it/s]\n",
      "  0%|          | 0/5 [00:00<?, ?it/s]"
     ]
    },
    {
     "name": "stdout",
     "output_type": "stream",
     "text": [
      "{'ner': 0.017897692173676913}\n",
      "{'ner': 0.3953848642820563}\n",
      "{'ner': 0.11564398706877652}\n"
     ]
    },
    {
     "name": "stderr",
     "output_type": "stream",
     "text": [
      "100%|██████████| 5/5 [00:00<00:00, 53.99it/s]\n",
      "100%|██████████| 5/5 [00:00<00:00, 56.14it/s]\n",
      "100%|██████████| 5/5 [00:00<00:00, 55.08it/s]\n",
      "  0%|          | 0/5 [00:00<?, ?it/s]"
     ]
    },
    {
     "name": "stdout",
     "output_type": "stream",
     "text": [
      "{'ner': 0.18298211775383774}\n",
      "{'ner': 0.00013824994612001237}\n",
      "{'ner': 0.010740499043206883}\n"
     ]
    },
    {
     "name": "stderr",
     "output_type": "stream",
     "text": [
      "100%|██████████| 5/5 [00:00<00:00, 57.02it/s]\n",
      "100%|██████████| 5/5 [00:00<00:00, 56.42it/s]\n",
      "100%|██████████| 5/5 [00:00<00:00, 56.11it/s]\n",
      "  0%|          | 0/5 [00:00<?, ?it/s]"
     ]
    },
    {
     "name": "stdout",
     "output_type": "stream",
     "text": [
      "{'ner': 0.0014988661679017704}\n",
      "{'ner': 0.15426629803633501}\n",
      "{'ner': 3.087737811107831e-06}\n"
     ]
    },
    {
     "name": "stderr",
     "output_type": "stream",
     "text": [
      "100%|██████████| 5/5 [00:00<00:00, 56.06it/s]\n",
      "100%|██████████| 5/5 [00:00<00:00, 59.44it/s]\n",
      "100%|██████████| 5/5 [00:00<00:00, 59.08it/s]\n",
      "  0%|          | 0/5 [00:00<?, ?it/s]"
     ]
    },
    {
     "name": "stdout",
     "output_type": "stream",
     "text": [
      "{'ner': 2.511770560154288}\n",
      "{'ner': 1.073410065238915}\n",
      "{'ner': 0.0003204419797838917}\n"
     ]
    },
    {
     "name": "stderr",
     "output_type": "stream",
     "text": [
      "100%|██████████| 5/5 [00:00<00:00, 53.37it/s]\n",
      "100%|██████████| 5/5 [00:00<00:00, 51.97it/s]\n",
      "  0%|          | 0/5 [00:00<?, ?it/s]"
     ]
    },
    {
     "name": "stdout",
     "output_type": "stream",
     "text": [
      "{'ner': 0.04617603258032811}\n",
      "{'ner': 0.06565462778072428}\n"
     ]
    },
    {
     "name": "stderr",
     "output_type": "stream",
     "text": [
      "100%|██████████| 5/5 [00:00<00:00, 48.45it/s]\n",
      "100%|██████████| 5/5 [00:00<00:00, 53.21it/s]\n",
      "100%|██████████| 5/5 [00:00<00:00, 50.00it/s]\n",
      "  0%|          | 0/5 [00:00<?, ?it/s]"
     ]
    },
    {
     "name": "stdout",
     "output_type": "stream",
     "text": [
      "{'ner': 0.02052200481455327}\n",
      "{'ner': 0.0013659208748560718}\n",
      "{'ner': 0.0008732412909232729}\n"
     ]
    },
    {
     "name": "stderr",
     "output_type": "stream",
     "text": [
      "100%|██████████| 5/5 [00:00<00:00, 52.45it/s]\n",
      "100%|██████████| 5/5 [00:00<00:00, 55.77it/s]\n",
      "100%|██████████| 5/5 [00:00<00:00, 56.91it/s]\n",
      "  0%|          | 0/5 [00:00<?, ?it/s]"
     ]
    },
    {
     "name": "stdout",
     "output_type": "stream",
     "text": [
      "{'ner': 3.208221034956032e-05}\n",
      "{'ner': 0.15502860093631352}\n",
      "{'ner': 0.00032448503192368267}\n"
     ]
    },
    {
     "name": "stderr",
     "output_type": "stream",
     "text": [
      "100%|██████████| 5/5 [00:00<00:00, 57.42it/s]\n",
      "100%|██████████| 5/5 [00:00<00:00, 58.17it/s]\n",
      "100%|██████████| 5/5 [00:00<00:00, 58.05it/s]\n",
      "  0%|          | 0/5 [00:00<?, ?it/s]"
     ]
    },
    {
     "name": "stdout",
     "output_type": "stream",
     "text": [
      "{'ner': 6.891939085695585e-06}\n",
      "{'ner': 0.029022463752619222}\n",
      "{'ner': 6.548933378516012e-05}\n"
     ]
    },
    {
     "name": "stderr",
     "output_type": "stream",
     "text": [
      "100%|██████████| 5/5 [00:00<00:00, 51.79it/s]\n",
      "100%|██████████| 5/5 [00:00<00:00, 50.60it/s]\n",
      "100%|██████████| 5/5 [00:00<00:00, 54.04it/s]\n",
      "  0%|          | 0/5 [00:00<?, ?it/s]"
     ]
    },
    {
     "name": "stdout",
     "output_type": "stream",
     "text": [
      "{'ner': 1.2163214075161855e-05}\n",
      "{'ner': 3.913877903068629e-05}\n",
      "{'ner': 0.016371225796938435}\n"
     ]
    },
    {
     "name": "stderr",
     "output_type": "stream",
     "text": [
      "100%|██████████| 5/5 [00:00<00:00, 56.35it/s]\n",
      "100%|██████████| 5/5 [00:00<00:00, 53.09it/s]\n",
      "100%|██████████| 5/5 [00:00<00:00, 48.67it/s]\n",
      "  0%|          | 0/5 [00:00<?, ?it/s]"
     ]
    },
    {
     "name": "stdout",
     "output_type": "stream",
     "text": [
      "{'ner': 4.467374379985515e-06}\n",
      "{'ner': 2.628773205328309}\n",
      "{'ner': 0.0018083555301403717}\n"
     ]
    },
    {
     "name": "stderr",
     "output_type": "stream",
     "text": [
      "100%|██████████| 5/5 [00:00<00:00, 48.15it/s]\n",
      "100%|██████████| 5/5 [00:00<00:00, 49.08it/s]\n",
      "100%|██████████| 5/5 [00:00<00:00, 52.61it/s]\n",
      "  0%|          | 0/5 [00:00<?, ?it/s]"
     ]
    },
    {
     "name": "stdout",
     "output_type": "stream",
     "text": [
      "{'ner': 6.860198520910335e-05}\n",
      "{'ner': 0.0003332228447755365}\n",
      "{'ner': 0.013556781940836624}\n"
     ]
    },
    {
     "name": "stderr",
     "output_type": "stream",
     "text": [
      "100%|██████████| 5/5 [00:00<00:00, 52.26it/s]\n",
      "100%|██████████| 5/5 [00:00<00:00, 52.86it/s]\n",
      "100%|██████████| 5/5 [00:00<00:00, 52.34it/s]\n",
      "  0%|          | 0/5 [00:00<?, ?it/s]"
     ]
    },
    {
     "name": "stdout",
     "output_type": "stream",
     "text": [
      "{'ner': 3.958656791600676e-06}\n",
      "{'ner': 1.637995739664506}\n",
      "{'ner': 0.0022706314665342426}\n"
     ]
    },
    {
     "name": "stderr",
     "output_type": "stream",
     "text": [
      "100%|██████████| 5/5 [00:00<00:00, 55.10it/s]\n",
      "100%|██████████| 5/5 [00:00<00:00, 56.80it/s]\n",
      "100%|██████████| 5/5 [00:00<00:00, 55.68it/s]\n",
      "  0%|          | 0/5 [00:00<?, ?it/s]"
     ]
    },
    {
     "name": "stdout",
     "output_type": "stream",
     "text": [
      "{'ner': 1.1037629440130691e-05}\n",
      "{'ner': 0.00543476035907666}\n",
      "{'ner': 1.9999990351476729}\n"
     ]
    },
    {
     "name": "stderr",
     "output_type": "stream",
     "text": [
      "100%|██████████| 5/5 [00:00<00:00, 55.98it/s]\n",
      "100%|██████████| 5/5 [00:00<00:00, 58.11it/s]\n",
      "100%|██████████| 5/5 [00:00<00:00, 54.71it/s]\n",
      "  0%|          | 0/5 [00:00<?, ?it/s]"
     ]
    },
    {
     "name": "stdout",
     "output_type": "stream",
     "text": [
      "{'ner': 0.0005703155427968076}\n",
      "{'ner': 1.5258310017969973e-05}\n",
      "{'ner': 0.033168765837550095}\n"
     ]
    },
    {
     "name": "stderr",
     "output_type": "stream",
     "text": [
      "100%|██████████| 5/5 [00:00<00:00, 46.71it/s]\n",
      "100%|██████████| 5/5 [00:00<00:00, 50.07it/s]\n",
      "100%|██████████| 5/5 [00:00<00:00, 50.97it/s]"
     ]
    },
    {
     "name": "stdout",
     "output_type": "stream",
     "text": [
      "{'ner': 2.0005374605335464}\n",
      "{'ner': 9.283552085463762e-05}\n"
     ]
    },
    {
     "name": "stderr",
     "output_type": "stream",
     "text": [
      "\n",
      "100%|██████████| 5/5 [00:00<00:00, 51.07it/s]\n",
      "100%|██████████| 5/5 [00:00<00:00, 53.56it/s]\n",
      "  0%|          | 0/5 [00:00<?, ?it/s]"
     ]
    },
    {
     "name": "stdout",
     "output_type": "stream",
     "text": [
      "{'ner': 5.934414175503831e-05}\n",
      "{'ner': 1.5412995696521633e-05}\n",
      "{'ner': 7.48118570194512e-08}\n"
     ]
    },
    {
     "name": "stderr",
     "output_type": "stream",
     "text": [
      "100%|██████████| 5/5 [00:00<00:00, 51.87it/s]\n",
      "100%|██████████| 5/5 [00:00<00:00, 51.16it/s]\n",
      "100%|██████████| 5/5 [00:00<00:00, 50.11it/s]\n",
      "  0%|          | 0/5 [00:00<?, ?it/s]"
     ]
    },
    {
     "name": "stdout",
     "output_type": "stream",
     "text": [
      "{'ner': 0.00014583715099864803}\n",
      "{'ner': 1.5635071958453398e-07}\n",
      "{'ner': 1.305718256473321}\n"
     ]
    },
    {
     "name": "stderr",
     "output_type": "stream",
     "text": [
      "100%|██████████| 5/5 [00:00<00:00, 46.36it/s]"
     ]
    },
    {
     "name": "stdout",
     "output_type": "stream",
     "text": [
      "{'ner': 0.0008932468730417904}\n"
     ]
    },
    {
     "name": "stderr",
     "output_type": "stream",
     "text": [
      "\n"
     ]
    }
   ],
   "source": [
    "for _, annotations in TRAIN_DATA:\n",
    "    for ent in annotations.get('entities'):\n",
    "        ner.add_label(ent[2])\n",
    "\n",
    "other_pipes = [pipe for pipe in nlp.pipe_names if pipe != 'ner']\n",
    "with nlp.disable_pipes(*other_pipes):  # only train NER\n",
    "    optimizer = nlp.begin_training()\n",
    "    for itn in range(n_iter):\n",
    "        random.shuffle(TRAIN_DATA)\n",
    "        losses = {}\n",
    "        for text, annotations in tqdm(TRAIN_DATA):\n",
    "            nlp.update(\n",
    "                [text],  \n",
    "                [annotations],  \n",
    "                drop=0.5,  \n",
    "                sgd=optimizer,\n",
    "                losses=losses)\n",
    "        print(losses)"
   ]
  },
  {
   "cell_type": "markdown",
   "metadata": {},
   "source": [
    "### Testing"
   ]
  },
  {
   "cell_type": "code",
   "execution_count": 5,
   "metadata": {},
   "outputs": [
    {
     "name": "stdout",
     "output_type": "stream",
     "text": [
      "Entities [('machine learning', 'AREA'), ('artificial intelligence', 'AREA'), ('theoretical computer science', 'AREA')]\n",
      "Entities [('machine learning', 'AREA'), ('systems', 'AREA')]\n",
      "Entities [('Machine Learning', 'AREA'), ('AI', 'AREA'), ('Data Science', 'AREA')]\n",
      "Entities [('machine learning', 'AREA'), ('systems', 'AREA')]\n",
      "Entities [('Bioinformatics', 'AREA'), ('Machine learning', 'AREA')]\n"
     ]
    }
   ],
   "source": [
    "for text, _ in TRAIN_DATA:\n",
    "    doc = nlp(text)\n",
    "    print('Entities', [(ent.text, ent.label_) for ent in doc.ents])"
   ]
  }
 ],
 "metadata": {
  "kernelspec": {
   "display_name": "Python 3.7.4 64-bit",
   "language": "python",
   "name": "python37464bit0060506ac7f440a081fd3e34b7bc0a2e"
  },
  "language_info": {
   "codemirror_mode": {
    "name": "ipython",
    "version": 3
   },
   "file_extension": ".py",
   "mimetype": "text/x-python",
   "name": "python",
   "nbconvert_exporter": "python",
   "pygments_lexer": "ipython3",
   "version": "3.7.4"
  }
 },
 "nbformat": 4,
 "nbformat_minor": 2
}
